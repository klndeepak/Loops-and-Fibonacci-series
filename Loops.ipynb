{
 "cells": [
  {
   "cell_type": "code",
   "execution_count": 1,
   "metadata": {},
   "outputs": [
    {
     "name": "stdout",
     "output_type": "stream",
     "text": [
      "enter a value that is greater than 10: 15\n",
      "you entered a number greater than 10\n",
      "your number is : 15\n"
     ]
    }
   ],
   "source": [
    "x = int(input(\"enter a value that is greater than 10: \"))\n",
    "if x>10:\n",
    "    print(\"you entered a number greater than 10\")\n",
    "print(\"your number is :\",x)"
   ]
  },
  {
   "cell_type": "code",
   "execution_count": 2,
   "metadata": {},
   "outputs": [
    {
     "name": "stdout",
     "output_type": "stream",
     "text": [
      "enter a value that is greater than 10: 14\n",
      "you entered a number greater than 10\n",
      "enter a value that is <=10: 12\n",
      "you entered a number greater than 10\n",
      "enter a value that is <=10: 5\n",
      "your number is : 5\n"
     ]
    }
   ],
   "source": [
    "x = int(input(\"enter a value that is greater than 10: \"))\n",
    "while x>10:\n",
    "    print(\"you entered a number greater than 10\")\n",
    "    x = int(input(\"enter a value that is <=10: \"))\n",
    "print(\"your number is :\",x)"
   ]
  },
  {
   "cell_type": "code",
   "execution_count": 3,
   "metadata": {},
   "outputs": [
    {
     "name": "stdout",
     "output_type": "stream",
     "text": [
      "enter a value that is greater than 10: 15\n",
      "you entered a number greater than 10\n",
      "enter a value that is >10: 15\n",
      "you entered a number greater than 10\n",
      "enter a value that is >10: 111\n"
     ]
    }
   ],
   "source": [
    "#The break statement helps us to get out of the loop even the while condition is not met\n",
    "x = int(input(\"enter a value that is greater than 10: \"))\n",
    "while x>10:\n",
    "    print(\"you entered a number greater than 10\")\n",
    "    x = int(input(\"enter a value that is >10: \"))\n",
    "    if x == 111:\n",
    "        break"
   ]
  },
  {
   "cell_type": "code",
   "execution_count": 1,
   "metadata": {},
   "outputs": [
    {
     "name": "stdout",
     "output_type": "stream",
     "text": [
      "enter a first number:4\n",
      "enter a second number:6\n",
      "try again with one number odd\n",
      "enter a first number:4\n",
      "enter a second number:5\n",
      "the entered numbers are: 4 5\n"
     ]
    }
   ],
   "source": [
    "x = int(input(\"enter a first number:\"))\n",
    "y = int(input(\"enter a second number:\"))\n",
    "while (x+y)%2==0:\n",
    "    print(\"try again with one number odd\")\n",
    "    x = int(input(\"enter a first number:\"))\n",
    "    y = int(input(\"enter a second number:\"))\n",
    "print(\"the entered numbers are:\",x,y)"
   ]
  },
  {
   "cell_type": "code",
   "execution_count": 8,
   "metadata": {},
   "outputs": [
    {
     "name": "stdout",
     "output_type": "stream",
     "text": [
      "1\n",
      "1\n",
      "2\n",
      "4\n",
      "8\n",
      "16\n",
      "32\n",
      "64\n",
      "128\n",
      "256\n",
      "512\n"
     ]
    }
   ],
   "source": [
    "# Fibonacci numbers upto 1000\n",
    "f1,f2 = 1,1\n",
    "while f1<=1000:\n",
    "    print(f1)\n",
    "    f1 = f2\n",
    "    f2 = f1+f2   \n",
    "    "
   ]
  },
  {
   "cell_type": "code",
   "execution_count": 9,
   "metadata": {},
   "outputs": [
    {
     "name": "stdout",
     "output_type": "stream",
     "text": [
      "1\n",
      "1\n",
      "2\n",
      "4\n",
      "8\n",
      "16\n",
      "32\n",
      "64\n",
      "128\n",
      "256\n",
      "512\n"
     ]
    }
   ],
   "source": [
    "# Fibonacci numbers upto 1000\n",
    "f1,f2 = 1,1\n",
    "while f2<=1000:\n",
    "    print(f2)\n",
    "    f2 = f1\n",
    "    f1 = f1+f2 "
   ]
  },
  {
   "cell_type": "code",
   "execution_count": null,
   "metadata": {},
   "outputs": [],
   "source": []
  }
 ],
 "metadata": {
  "kernelspec": {
   "display_name": "Python 3",
   "language": "python",
   "name": "python3"
  },
  "language_info": {
   "codemirror_mode": {
    "name": "ipython",
    "version": 3
   },
   "file_extension": ".py",
   "mimetype": "text/x-python",
   "name": "python",
   "nbconvert_exporter": "python",
   "pygments_lexer": "ipython3",
   "version": "3.7.1"
  }
 },
 "nbformat": 4,
 "nbformat_minor": 2
}
